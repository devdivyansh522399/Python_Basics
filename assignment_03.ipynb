{
  "cells": [
    {
      "cell_type": "markdown",
      "metadata": {
        "id": "view-in-github",
        "colab_type": "text"
      },
      "source": [
        "<a href=\"https://colab.research.google.com/github/devdivyansh522399/Python_Basics/blob/main/assignment_03.ipynb\" target=\"_parent\"><img src=\"https://colab.research.google.com/assets/colab-badge.svg\" alt=\"Open In Colab\"/></a>"
      ]
    },
    {
      "cell_type": "markdown",
      "source": [
        "Question 1: Why are functions advantageous to have in your programs?\n",
        "\n",
        "Answer : Functions reduce the need for duplicate code. This makes programs shorter, easier to read, and easier to update."
      ],
      "metadata": {
        "id": "TmA7GV9gGiNR"
      }
    },
    {
      "cell_type": "markdown",
      "source": [
        "Question 2: When does the code in a function run: when it's specified or when it's called?\n",
        "\n",
        "Answer: When a function is \"called\" the program \"leaves\" the current section of code and begins to execute the first line inside the function."
      ],
      "metadata": {
        "id": "73F7bufnGy63"
      }
    },
    {
      "cell_type": "markdown",
      "source": [
        "Question 3: What statement creates a function?\n",
        "\n",
        "Answer: A statement that creates a new function is def, specifying its name, parameters, and the statements it executes."
      ],
      "metadata": {
        "id": "24_UOSpqHDFy"
      }
    },
    {
      "cell_type": "markdown",
      "source": [
        "Question 4: What is the difference between a function and a function call?\n",
        "\n",
        "Answer: A function is a piece of code which enhanced the reusability and modularity of your program. It means that piece of code need not be written again. A function call means invoking or calling that function. Unless a function is called there is no use of that function."
      ],
      "metadata": {
        "id": "JSLfmOACHVJE"
      }
    },
    {
      "cell_type": "markdown",
      "source": [
        "Question 5: How many global scopes are there in a Python program? How many local scopes?\n",
        "\n",
        "Answer:There's only one global Python scope per program execution. This scope remains in existence until the program terminates and all its names are forgotten."
      ],
      "metadata": {
        "id": "sn4GmqtrHguj"
      }
    },
    {
      "cell_type": "markdown",
      "source": [
        "Question 6: What happens to variables in a local scope when the function call returns?\n",
        "\n",
        "Answer: A local variable retains its value until the next time the function is called A local variable becomes undefined after the function call completes The local variable can be used outside the function any time after the function call completes."
      ],
      "metadata": {
        "id": "kRJVdAnwHvXo"
      }
    },
    {
      "cell_type": "markdown",
      "source": [
        "Question 7: What is the concept of a return value? Is it possible to have a return value in an expression?\n",
        "\n",
        "Answer: In general, a function takes arguments (if any), performs some operations, and returns a value (or object). The value that a function returns to the caller is generally known as the function's return value. All Python functions have a return value, either explicit or implicit."
      ],
      "metadata": {
        "id": "2bkssz-oIK89"
      }
    },
    {
      "cell_type": "markdown",
      "source": [
        "Question 8: How do you make a function variable refer to the global variable?\n",
        "\n",
        "Answer:If you want to refer to a global variable in a function, you can use the global keyword to declare which variables are global."
      ],
      "metadata": {
        "id": "5OpNfw4dIRcL"
      }
    },
    {
      "cell_type": "markdown",
      "source": [
        "Question 9: What is the data type of None?\n",
        "\n",
        "Answer: None is a data type of its own (NoneType) and only None can be None."
      ],
      "metadata": {
        "id": "PCwMTsmnIkG0"
      }
    },
    {
      "cell_type": "markdown",
      "source": [
        "Question 10:What does the sentence import areallyourpetsnamederic do?\n",
        "\n",
        "Answer: That import statement imports a module named areallyourpetsnamederic"
      ],
      "metadata": {
        "id": "WG3DoUhBIvka"
      }
    }
  ],
  "metadata": {
    "colab": {
      "collapsed_sections": [],
      "name": "Welcome To Colaboratory",
      "toc_visible": true,
      "provenance": [],
      "include_colab_link": true
    },
    "kernelspec": {
      "display_name": "Python 3",
      "name": "python3"
    }
  },
  "nbformat": 4,
  "nbformat_minor": 0
}