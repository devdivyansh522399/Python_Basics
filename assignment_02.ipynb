{
  "cells": [
    {
      "cell_type": "markdown",
      "metadata": {
        "id": "view-in-github",
        "colab_type": "text"
      },
      "source": [
        "<a href=\"https://colab.research.google.com/github/devdivyansh522399/Python_Basics/blob/main/assignment_02.ipynb\" target=\"_parent\"><img src=\"https://colab.research.google.com/assets/colab-badge.svg\" alt=\"Open In Colab\"/></a>"
      ]
    },
    {
      "cell_type": "markdown",
      "source": [
        "Question 1: What are the two values of the Boolean data type? How do you write them?\n",
        "\n",
        "Answer: A variable of the primitive data type boolean can have two values: true and false (Boolean literals). or off. Boolean expressions use relational and logical operators. The result of a Boolean expression is either true or false."
      ],
      "metadata": {
        "id": "2VtKwXpC8eFg"
      }
    },
    {
      "cell_type": "markdown",
      "source": [
        "Question 2: 2. What are the three different types of Boolean operators?\n",
        "\n",
        "Answer: There are three basic operator\n",
        "1. OR\n",
        "2. AND\n",
        "3. NOT"
      ],
      "metadata": {
        "id": "JUtXXSBo83Lf"
      }
    },
    {
      "cell_type": "code",
      "source": [
        "a = 2\n",
        "b = 3\n",
        "print(\"OR :\", a or b)\n",
        "print(\"AND :\", a and b)\n",
        "print(\"NOT :\", not a)"
      ],
      "metadata": {
        "id": "RHv51vxA9Hp7",
        "outputId": "97a3e007-aff3-4a66-dc00-89c600ac8289",
        "colab": {
          "base_uri": "https://localhost:8080/"
        }
      },
      "execution_count": 17,
      "outputs": [
        {
          "output_type": "stream",
          "name": "stdout",
          "text": [
            "OR : 2\n",
            "AND : 3\n",
            "NOT : False\n"
          ]
        }
      ]
    },
    {
      "cell_type": "markdown",
      "source": [
        "Question 3: What are the values of the following expressions?"
      ],
      "metadata": {
        "id": "1APQOT489jy4"
      }
    },
    {
      "cell_type": "code",
      "source": [
        "print((5 > 4) and (3 == 5))\n",
        "print(not (5 > 4))\n",
        "print((5 > 4) or (3 == 5))\n",
        "print(not ((5 > 4) or (3 == 5)))\n",
        "print((True and True) and (True == False))\n",
        "print((not False) or (not True))"
      ],
      "metadata": {
        "id": "UiInshPo9twL",
        "outputId": "d09758bc-b1ef-4d6a-9675-624b0fbfb891",
        "colab": {
          "base_uri": "https://localhost:8080/"
        }
      },
      "execution_count": 18,
      "outputs": [
        {
          "output_type": "stream",
          "name": "stdout",
          "text": [
            "False\n",
            "False\n",
            "True\n",
            "False\n",
            "False\n",
            "True\n"
          ]
        }
      ]
    },
    {
      "cell_type": "markdown",
      "source": [
        "Question 4: What are the six comparison operators?\n",
        "\n",
        "Answer : Python has six comparison operators: less than (<), less than or equal to (<=), greater than (>), greater than or equal to (>=), equal to (==), and not equal to (!=)."
      ],
      "metadata": {
        "id": "7zc4K7gR-KQx"
      }
    },
    {
      "cell_type": "markdown",
      "source": [
        "Question 5: How do you tell the difference between the equal to and assignment operators?Describe a\n",
        "condition and when you would use one.\n",
        "\n",
        "Answer : The “=” is an assignment operator is used to assign the value on the right to the variable on the left. The '==' operator checks whether the two given operands are equal or not. If so, it returns true. Otherwise it returns false."
      ],
      "metadata": {
        "id": "-1MUnZg3-Y2L"
      }
    },
    {
      "cell_type": "code",
      "source": [
        "a = 5\n",
        "print((a==5))"
      ],
      "metadata": {
        "id": "k5Oiu6j3-mJl",
        "outputId": "52ac24b9-dec1-49e2-bb06-7075d4a88ea7",
        "colab": {
          "base_uri": "https://localhost:8080/"
        }
      },
      "execution_count": 19,
      "outputs": [
        {
          "output_type": "stream",
          "name": "stdout",
          "text": [
            "True\n"
          ]
        }
      ]
    },
    {
      "cell_type": "markdown",
      "source": [
        "Question 6: Identify the three blocks in this code"
      ],
      "metadata": {
        "id": "rEA6Ptri-tjL"
      }
    },
    {
      "cell_type": "code",
      "source": [
        "spam = 0\n",
        "if spam == 10:\n",
        "  #block 1\n",
        "  print('&#39;eggs&#39;')\n",
        "elif spam > 5:\n",
        "  #block 2\n",
        "  print('&#39;bacon&#39;')\n",
        "else:\n",
        "  #block 3\n",
        "  print('&#39;ham&#39;')\n",
        "  print('&#39;spam&#39;')\n",
        "  print('&#39;spam&#39')"
      ],
      "metadata": {
        "id": "WK48Tf-h_Q63",
        "outputId": "85c8ce9b-690c-46e6-efb8-3d38e4d41512",
        "colab": {
          "base_uri": "https://localhost:8080/"
        }
      },
      "execution_count": 20,
      "outputs": [
        {
          "output_type": "stream",
          "name": "stdout",
          "text": [
            "&#39;ham&#39;\n",
            "&#39;spam&#39;\n",
            "&#39;spam&#39\n"
          ]
        }
      ]
    },
    {
      "cell_type": "markdown",
      "source": [
        "Question 7: Write code that prints Hello if 1 is stored in spam, prints Howdy if 2 is stored in spam, and prints\n",
        "Greetings! if anything else is stored in spam."
      ],
      "metadata": {
        "id": "QE46l8gO_uvQ"
      }
    },
    {
      "cell_type": "code",
      "source": [
        "spam = int(input())\n",
        "if(spam == 1):\n",
        "  print(\"Hello\")\n",
        "elif(spam == 2):\n",
        "  print(\"Howdy\")\n",
        "else:\n",
        "  print(\"Greetings!\")"
      ],
      "metadata": {
        "id": "L5Vadvpw_1DP",
        "outputId": "2162a95f-900b-41c7-f5ce-9e89f0ddcd76",
        "colab": {
          "base_uri": "https://localhost:8080/"
        }
      },
      "execution_count": 21,
      "outputs": [
        {
          "output_type": "stream",
          "name": "stdout",
          "text": [
            "5\n",
            "Greetings!\n"
          ]
        }
      ]
    },
    {
      "cell_type": "markdown",
      "source": [
        "Question 8:If your programme is stuck in an endless loop, what keys you’ll press?\n",
        "\n",
        "Answer : CTRL +C"
      ],
      "metadata": {
        "id": "cZAvZKU2AVXd"
      }
    },
    {
      "cell_type": "markdown",
      "source": [
        "Question 9: How can you tell the difference between break and continue?\n",
        "Answer : The main difference between break and continue statement is that when break keyword is encountered, it will exit the loop. In case of continue keyword, the current iteration that is running will be stopped, and it will proceed with the next iteration."
      ],
      "metadata": {
        "id": "q-M-rmjDAi1m"
      }
    },
    {
      "cell_type": "markdown",
      "source": [
        "Question 10: In a for loop, what is the difference between range(10), range(0, 10), and range(0, 10, 1)?"
      ],
      "metadata": {
        "id": "9vp0h2tgAy2H"
      }
    },
    {
      "cell_type": "code",
      "source": [
        "print(range(10))\n",
        "print(range(0,10))\n",
        "print(range(0,10,1))"
      ],
      "metadata": {
        "id": "F8mPncA1A24d",
        "outputId": "23f08c57-0754-4b9c-a531-189364b182e9",
        "colab": {
          "base_uri": "https://localhost:8080/"
        }
      },
      "execution_count": 22,
      "outputs": [
        {
          "output_type": "stream",
          "name": "stdout",
          "text": [
            "range(0, 10)\n",
            "range(0, 10)\n",
            "range(0, 10)\n"
          ]
        }
      ]
    },
    {
      "cell_type": "markdown",
      "source": [
        "Question 11: Write a short program that prints the numbers 1 to 10 using a for loop. Then write an equivalent\n",
        "program that prints the numbers 1 to 10 using a while loop."
      ],
      "metadata": {
        "id": "YW98Br49BkNa"
      }
    },
    {
      "cell_type": "code",
      "source": [
        "for i in range(10):\n",
        "  print(i, end=\" \")"
      ],
      "metadata": {
        "id": "I2OKqlxSBl8a",
        "outputId": "46796379-a0b4-42bb-8eb7-cd7f8d65315d",
        "colab": {
          "base_uri": "https://localhost:8080/"
        }
      },
      "execution_count": 23,
      "outputs": [
        {
          "output_type": "stream",
          "name": "stdout",
          "text": [
            "0 1 2 3 4 5 6 7 8 9 "
          ]
        }
      ]
    },
    {
      "cell_type": "code",
      "source": [
        "i = 0\n",
        "while(i<10):\n",
        "  print(i, end=' ')\n",
        "  i+=1"
      ],
      "metadata": {
        "id": "SAN2jy-OBtCS",
        "outputId": "eb9821c6-4933-4fd2-9f25-7882c71dbed8",
        "colab": {
          "base_uri": "https://localhost:8080/"
        }
      },
      "execution_count": 30,
      "outputs": [
        {
          "output_type": "stream",
          "name": "stdout",
          "text": [
            "0 1 2 3 4 5 6 7 8 9 "
          ]
        }
      ]
    },
    {
      "cell_type": "markdown",
      "source": [
        "If you had a function named bacon() inside a module named spam, how would you call it after\n",
        "importing spam?"
      ],
      "metadata": {
        "id": "XqKXdtwsCVtF"
      }
    },
    {
      "cell_type": "code",
      "source": [
        "import spam \n",
        "spam.becon()"
      ],
      "metadata": {
        "id": "pPoJrYtYCWLY",
        "outputId": "e51d2e3a-e17f-4c7a-c90a-3b8d41da2bea",
        "colab": {
          "base_uri": "https://localhost:8080/",
          "height": 321
        }
      },
      "execution_count": 31,
      "outputs": [
        {
          "output_type": "error",
          "ename": "ModuleNotFoundError",
          "evalue": "ignored",
          "traceback": [
            "\u001b[0;31m---------------------------------------------------------------------------\u001b[0m",
            "\u001b[0;31mModuleNotFoundError\u001b[0m                       Traceback (most recent call last)",
            "\u001b[0;32m<ipython-input-31-2ed055e5d509>\u001b[0m in \u001b[0;36m<module>\u001b[0;34m()\u001b[0m\n\u001b[0;32m----> 1\u001b[0;31m \u001b[0;32mimport\u001b[0m \u001b[0mspam\u001b[0m\u001b[0;34m\u001b[0m\u001b[0;34m\u001b[0m\u001b[0m\n\u001b[0m\u001b[1;32m      2\u001b[0m \u001b[0mspam\u001b[0m\u001b[0;34m.\u001b[0m\u001b[0mbecon\u001b[0m\u001b[0;34m(\u001b[0m\u001b[0;34m)\u001b[0m\u001b[0;34m\u001b[0m\u001b[0;34m\u001b[0m\u001b[0m\n",
            "\u001b[0;31mModuleNotFoundError\u001b[0m: No module named 'spam'",
            "",
            "\u001b[0;31m---------------------------------------------------------------------------\u001b[0;32m\nNOTE: If your import is failing due to a missing package, you can\nmanually install dependencies using either !pip or !apt.\n\nTo view examples of installing some common dependencies, click the\n\"Open Examples\" button below.\n\u001b[0;31m---------------------------------------------------------------------------\u001b[0m\n"
          ],
          "errorDetails": {
            "actions": [
              {
                "action": "open_url",
                "actionText": "Open Examples",
                "url": "/notebooks/snippets/importing_libraries.ipynb"
              }
            ]
          }
        }
      ]
    },
    {
      "cell_type": "code",
      "source": [
        ""
      ],
      "metadata": {
        "id": "CvwUN-HmCcRN"
      },
      "execution_count": null,
      "outputs": []
    }
  ],
  "metadata": {
    "colab": {
      "collapsed_sections": [],
      "name": "Welcome To Colaboratory",
      "toc_visible": true,
      "provenance": [],
      "include_colab_link": true
    },
    "kernelspec": {
      "display_name": "Python 3",
      "name": "python3"
    }
  },
  "nbformat": 4,
  "nbformat_minor": 0
}